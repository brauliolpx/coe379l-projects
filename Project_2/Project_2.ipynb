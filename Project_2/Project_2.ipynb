{
 "cells": [
  {
   "cell_type": "markdown",
   "id": "6ca4fde2-d8d0-4fe8-8fb9-ec6bd3f58bc6",
   "metadata": {},
   "source": [
    "## PROJECT 2"
   ]
  },
  {
   "cell_type": "markdown",
   "id": "31347e58-f28c-440c-b6b8-7d076a421c94",
   "metadata": {},
   "source": [
    "### Part 1"
   ]
  },
  {
   "cell_type": "markdown",
   "id": "a4c0c5de-b789-4380-8611-b6f64900b98f",
   "metadata": {},
   "source": [
    "#### Importing the libraries "
   ]
  },
  {
   "cell_type": "code",
   "execution_count": 1,
   "id": "19286672-15fb-4002-bd1e-c0f3952167ec",
   "metadata": {},
   "outputs": [
    {
     "name": "stderr",
     "output_type": "stream",
     "text": [
      "/tmp/ipykernel_503/1362100951.py:1: DeprecationWarning: \n",
      "Pyarrow will become a required dependency of pandas in the next major release of pandas (pandas 3.0),\n",
      "(to allow more performant data types, such as the Arrow string type, and better interoperability with other libraries)\n",
      "but was not found to be installed on your system.\n",
      "If this would cause problems for you,\n",
      "please provide us feedback at https://github.com/pandas-dev/pandas/issues/54466\n",
      "        \n",
      "  import pandas as pd\n"
     ]
    }
   ],
   "source": [
    "import pandas as pd\n",
    "import seaborn as sns\n",
    "import sklearn\n",
    "import numpy as np\n",
    "import matplotlib.pyplot as plt\n",
    "import sklearn.linear_model\n",
    "from sklearn.model_selection import train_test_split\n",
    "from sklearn.linear_model import SGDClassifier\n",
    "from sklearn.linear_model import LinearRegression\n",
    "from sklearn.metrics import accuracy_score\n",
    "from sklearn.neighbors import KNeighborsClassifier\n",
    "from sklearn.metrics import accuracy_score, recall_score, precision_score, f1_score\n",
    "from sklearn.tree import DecisionTreeClassifier\n",
    "from sklearn.metrics import classification_report\n",
    "from sklearn import tree\n",
    "from sklearn.linear_model import LogisticRegression\n",
    "from sklearn.metrics import classification_report\n",
    "from sklearn.model_selection import GridSearchCV"
   ]
  },
  {
   "cell_type": "markdown",
   "id": "2696eb73-682c-4b07-a530-136dee7f73e4",
   "metadata": {},
   "source": [
    "#### Working with data set project2.data"
   ]
  },
  {
   "cell_type": "code",
   "execution_count": 2,
   "id": "b41bf183-e582-41a8-a3e3-e5c733e453f1",
   "metadata": {},
   "outputs": [
    {
     "data": {
      "text/html": [
       "<div>\n",
       "<style scoped>\n",
       "    .dataframe tbody tr th:only-of-type {\n",
       "        vertical-align: middle;\n",
       "    }\n",
       "\n",
       "    .dataframe tbody tr th {\n",
       "        vertical-align: top;\n",
       "    }\n",
       "\n",
       "    .dataframe thead th {\n",
       "        text-align: right;\n",
       "    }\n",
       "</style>\n",
       "<table border=\"1\" class=\"dataframe\">\n",
       "  <thead>\n",
       "    <tr style=\"text-align: right;\">\n",
       "      <th></th>\n",
       "      <th>class</th>\n",
       "      <th>age</th>\n",
       "      <th>menopause</th>\n",
       "      <th>tumor-size</th>\n",
       "      <th>inv-nodes</th>\n",
       "      <th>node-caps</th>\n",
       "      <th>deg-malig</th>\n",
       "      <th>breast</th>\n",
       "      <th>breast-quad</th>\n",
       "      <th>irradiat</th>\n",
       "    </tr>\n",
       "  </thead>\n",
       "  <tbody>\n",
       "    <tr>\n",
       "      <th>0</th>\n",
       "      <td>no-recurrence-events</td>\n",
       "      <td>30-39</td>\n",
       "      <td>premeno</td>\n",
       "      <td>30-34</td>\n",
       "      <td>0-2</td>\n",
       "      <td>no</td>\n",
       "      <td>3</td>\n",
       "      <td>left</td>\n",
       "      <td>left_low</td>\n",
       "      <td>no</td>\n",
       "    </tr>\n",
       "    <tr>\n",
       "      <th>1</th>\n",
       "      <td>no-recurrence-events</td>\n",
       "      <td>40-49</td>\n",
       "      <td>premeno</td>\n",
       "      <td>20-24</td>\n",
       "      <td>0-2</td>\n",
       "      <td>no</td>\n",
       "      <td>2</td>\n",
       "      <td>right</td>\n",
       "      <td>right_up</td>\n",
       "      <td>no</td>\n",
       "    </tr>\n",
       "    <tr>\n",
       "      <th>2</th>\n",
       "      <td>no-recurrence-events</td>\n",
       "      <td>40-49</td>\n",
       "      <td>premeno</td>\n",
       "      <td>20-24</td>\n",
       "      <td>0-2</td>\n",
       "      <td>no</td>\n",
       "      <td>2</td>\n",
       "      <td>left</td>\n",
       "      <td>left_low</td>\n",
       "      <td>no</td>\n",
       "    </tr>\n",
       "    <tr>\n",
       "      <th>3</th>\n",
       "      <td>no-recurrence-events</td>\n",
       "      <td>60-69</td>\n",
       "      <td>ge40</td>\n",
       "      <td>15-19</td>\n",
       "      <td>0-2</td>\n",
       "      <td>no</td>\n",
       "      <td>2</td>\n",
       "      <td>right</td>\n",
       "      <td>left_up</td>\n",
       "      <td>no</td>\n",
       "    </tr>\n",
       "    <tr>\n",
       "      <th>4</th>\n",
       "      <td>no-recurrence-events</td>\n",
       "      <td>40-49</td>\n",
       "      <td>premeno</td>\n",
       "      <td>0-4</td>\n",
       "      <td>0-2</td>\n",
       "      <td>no</td>\n",
       "      <td>2</td>\n",
       "      <td>right</td>\n",
       "      <td>right_low</td>\n",
       "      <td>no</td>\n",
       "    </tr>\n",
       "    <tr>\n",
       "      <th>...</th>\n",
       "      <td>...</td>\n",
       "      <td>...</td>\n",
       "      <td>...</td>\n",
       "      <td>...</td>\n",
       "      <td>...</td>\n",
       "      <td>...</td>\n",
       "      <td>...</td>\n",
       "      <td>...</td>\n",
       "      <td>...</td>\n",
       "      <td>...</td>\n",
       "    </tr>\n",
       "    <tr>\n",
       "      <th>281</th>\n",
       "      <td>recurrence-events</td>\n",
       "      <td>30-39</td>\n",
       "      <td>premeno</td>\n",
       "      <td>30-34</td>\n",
       "      <td>0-2</td>\n",
       "      <td>no</td>\n",
       "      <td>2</td>\n",
       "      <td>left</td>\n",
       "      <td>left_up</td>\n",
       "      <td>no</td>\n",
       "    </tr>\n",
       "    <tr>\n",
       "      <th>282</th>\n",
       "      <td>recurrence-events</td>\n",
       "      <td>30-39</td>\n",
       "      <td>premeno</td>\n",
       "      <td>20-24</td>\n",
       "      <td>0-2</td>\n",
       "      <td>no</td>\n",
       "      <td>3</td>\n",
       "      <td>left</td>\n",
       "      <td>left_up</td>\n",
       "      <td>yes</td>\n",
       "    </tr>\n",
       "    <tr>\n",
       "      <th>283</th>\n",
       "      <td>recurrence-events</td>\n",
       "      <td>60-69</td>\n",
       "      <td>ge40</td>\n",
       "      <td>20-24</td>\n",
       "      <td>0-2</td>\n",
       "      <td>no</td>\n",
       "      <td>1</td>\n",
       "      <td>right</td>\n",
       "      <td>left_up</td>\n",
       "      <td>no</td>\n",
       "    </tr>\n",
       "    <tr>\n",
       "      <th>284</th>\n",
       "      <td>recurrence-events</td>\n",
       "      <td>40-49</td>\n",
       "      <td>ge40</td>\n",
       "      <td>30-34</td>\n",
       "      <td>3-5</td>\n",
       "      <td>no</td>\n",
       "      <td>3</td>\n",
       "      <td>left</td>\n",
       "      <td>left_low</td>\n",
       "      <td>no</td>\n",
       "    </tr>\n",
       "    <tr>\n",
       "      <th>285</th>\n",
       "      <td>recurrence-events</td>\n",
       "      <td>50-59</td>\n",
       "      <td>ge40</td>\n",
       "      <td>30-34</td>\n",
       "      <td>3-5</td>\n",
       "      <td>no</td>\n",
       "      <td>3</td>\n",
       "      <td>left</td>\n",
       "      <td>left_low</td>\n",
       "      <td>no</td>\n",
       "    </tr>\n",
       "  </tbody>\n",
       "</table>\n",
       "<p>286 rows × 10 columns</p>\n",
       "</div>"
      ],
      "text/plain": [
       "                    class    age menopause tumor-size inv-nodes node-caps  \\\n",
       "0    no-recurrence-events  30-39   premeno      30-34       0-2        no   \n",
       "1    no-recurrence-events  40-49   premeno      20-24       0-2        no   \n",
       "2    no-recurrence-events  40-49   premeno      20-24       0-2        no   \n",
       "3    no-recurrence-events  60-69      ge40      15-19       0-2        no   \n",
       "4    no-recurrence-events  40-49   premeno        0-4       0-2        no   \n",
       "..                    ...    ...       ...        ...       ...       ...   \n",
       "281     recurrence-events  30-39   premeno      30-34       0-2        no   \n",
       "282     recurrence-events  30-39   premeno      20-24       0-2        no   \n",
       "283     recurrence-events  60-69      ge40      20-24       0-2        no   \n",
       "284     recurrence-events  40-49      ge40      30-34       3-5        no   \n",
       "285     recurrence-events  50-59      ge40      30-34       3-5        no   \n",
       "\n",
       "     deg-malig breast breast-quad irradiat  \n",
       "0            3   left    left_low       no  \n",
       "1            2  right    right_up       no  \n",
       "2            2   left    left_low       no  \n",
       "3            2  right     left_up       no  \n",
       "4            2  right   right_low       no  \n",
       "..         ...    ...         ...      ...  \n",
       "281          2   left     left_up       no  \n",
       "282          3   left     left_up      yes  \n",
       "283          1  right     left_up       no  \n",
       "284          3   left    left_low       no  \n",
       "285          3   left    left_low       no  \n",
       "\n",
       "[286 rows x 10 columns]"
      ]
     },
     "execution_count": 2,
     "metadata": {},
     "output_type": "execute_result"
    }
   ],
   "source": [
    "data = pd.read_csv('project2.data') #imports the project.data and reads it as a csv\n",
    "data #shows the data frame"
   ]
  },
  {
   "cell_type": "markdown",
   "id": "bb332444-2faf-47ff-98d9-a6c256f065b0",
   "metadata": {},
   "source": [
    "#### Identifing the shape and size of the raw data"
   ]
  },
  {
   "cell_type": "markdown",
   "id": "c32289c4-249f-4615-8d8d-ae7f61e0ed7b",
   "metadata": {},
   "source": [
    "To Identify the shape and the size of the raw data we will be using the pandas library. The build in function shape and for the size we will be using checking the lenght of the data"
   ]
  },
  {
   "cell_type": "code",
   "execution_count": 3,
   "id": "c1c4c915-718d-4596-b54d-3adf5abf4f1a",
   "metadata": {},
   "outputs": [
    {
     "data": {
      "text/plain": [
       "(286, 10)"
      ]
     },
     "execution_count": 3,
     "metadata": {},
     "output_type": "execute_result"
    }
   ],
   "source": [
    "data.shape #identify the shape "
   ]
  },
  {
   "cell_type": "code",
   "execution_count": 4,
   "id": "35fc3929-2db0-46b0-9c9c-79c32cd56af1",
   "metadata": {},
   "outputs": [
    {
     "data": {
      "text/plain": [
       "286"
      ]
     },
     "execution_count": 4,
     "metadata": {},
     "output_type": "execute_result"
    }
   ],
   "source": [
    "len(data) #Identify the size of the raw data "
   ]
  },
  {
   "cell_type": "code",
   "execution_count": 5,
   "id": "cd47bea5-23f0-433c-aa39-e429067c4a00",
   "metadata": {},
   "outputs": [
    {
     "data": {
      "text/plain": [
       "2860"
      ]
     },
     "execution_count": 5,
     "metadata": {},
     "output_type": "execute_result"
    }
   ],
   "source": [
    "data.size"
   ]
  },
  {
   "cell_type": "markdown",
   "id": "97ef5a1a-a573-434e-9adc-06f2d03f615a",
   "metadata": {},
   "source": [
    "#### Get information about the types of data and check if it needs any datatype conversion"
   ]
  },
  {
   "cell_type": "code",
   "execution_count": 6,
   "id": "10f76885-43df-47a1-8951-48b42b8c8730",
   "metadata": {},
   "outputs": [
    {
     "name": "stdout",
     "output_type": "stream",
     "text": [
      "<class 'pandas.core.frame.DataFrame'>\n",
      "RangeIndex: 286 entries, 0 to 285\n",
      "Data columns (total 10 columns):\n",
      " #   Column       Non-Null Count  Dtype \n",
      "---  ------       --------------  ----- \n",
      " 0   class        286 non-null    object\n",
      " 1   age          286 non-null    object\n",
      " 2   menopause    286 non-null    object\n",
      " 3   tumor-size   286 non-null    object\n",
      " 4   inv-nodes    286 non-null    object\n",
      " 5   node-caps    286 non-null    object\n",
      " 6   deg-malig    286 non-null    int64 \n",
      " 7   breast       286 non-null    object\n",
      " 8   breast-quad  286 non-null    object\n",
      " 9   irradiat     286 non-null    object\n",
      "dtypes: int64(1), object(9)\n",
      "memory usage: 22.5+ KB\n"
     ]
    }
   ],
   "source": [
    "data.info() #gets information about the dtype of each column in the data frame"
   ]
  },
  {
   "cell_type": "markdown",
   "id": "db137e17-18bf-4897-a3fd-a401641fcca2",
   "metadata": {},
   "source": [
    "#### Dropping non-important columns if needed, Is the data missing in any of the columns?\n",
    "\n",
    "From what I am able to see all the columns are important in the data as there are no duplicates or non value columns "
   ]
  },
  {
   "cell_type": "code",
   "execution_count": 7,
   "id": "c43b7f7f-2486-4913-b824-c7bc29f798b3",
   "metadata": {},
   "outputs": [
    {
     "data": {
      "text/plain": [
       "class          0\n",
       "age            0\n",
       "menopause      0\n",
       "tumor-size     0\n",
       "inv-nodes      0\n",
       "node-caps      0\n",
       "deg-malig      0\n",
       "breast         0\n",
       "breast-quad    0\n",
       "irradiat       0\n",
       "dtype: int64"
      ]
     },
     "execution_count": 7,
     "metadata": {},
     "output_type": "execute_result"
    }
   ],
   "source": [
    "data.isnull().sum() #checking for missing values"
   ]
  },
  {
   "cell_type": "markdown",
   "id": "7f84ec80-6087-45df-a698-260e3f3df074",
   "metadata": {},
   "source": [
    "As I can see above it indicates that there are no missing values, although that indicates that we are ready to go when i took a look at the dataframe i noticed that there were missing values and this values needed to be replace with nan values"
   ]
  },
  {
   "cell_type": "code",
   "execution_count": 8,
   "id": "4af97704-212e-46ed-aa8e-010a217be766",
   "metadata": {},
   "outputs": [],
   "source": [
    "data = data.replace([\"\", \"?\", \"NA\"], np.nan)"
   ]
  },
  {
   "cell_type": "code",
   "execution_count": 9,
   "id": "7de64378-af31-4007-bf54-74877f9079e2",
   "metadata": {},
   "outputs": [
    {
     "data": {
      "text/plain": [
       "class          0\n",
       "age            0\n",
       "menopause      0\n",
       "tumor-size     0\n",
       "inv-nodes      0\n",
       "node-caps      8\n",
       "deg-malig      0\n",
       "breast         0\n",
       "breast-quad    1\n",
       "irradiat       0\n",
       "dtype: int64"
      ]
     },
     "execution_count": 9,
     "metadata": {},
     "output_type": "execute_result"
    }
   ],
   "source": [
    "data.isnull().sum()"
   ]
  },
  {
   "cell_type": "code",
   "execution_count": 10,
   "id": "5677dba2-2238-408c-a41c-f10d184f4d6d",
   "metadata": {},
   "outputs": [
    {
     "name": "stderr",
     "output_type": "stream",
     "text": [
      "/tmp/ipykernel_503/3856421471.py:1: FutureWarning: A value is trying to be set on a copy of a DataFrame or Series through chained assignment using an inplace method.\n",
      "The behavior will change in pandas 3.0. This inplace method will never work because the intermediate object on which we are setting values always behaves as a copy.\n",
      "\n",
      "For example, when doing 'df[col].method(value, inplace=True)', try using 'df.method({col: value}, inplace=True)' or df[col] = df[col].method(value) instead, to perform the operation inplace on the original object.\n",
      "\n",
      "\n",
      "  data['node-caps'].fillna(data['node-caps'].mode()[0],inplace=True) #this really runs need to run it twice\n"
     ]
    }
   ],
   "source": [
    "data['node-caps'].fillna(data['node-caps'].mode()[0],inplace=True) #this really runs need to run it twice"
   ]
  },
  {
   "cell_type": "code",
   "execution_count": 11,
   "id": "6cff4608-1e95-4241-8397-4c4481a987dd",
   "metadata": {},
   "outputs": [
    {
     "name": "stderr",
     "output_type": "stream",
     "text": [
      "/tmp/ipykernel_503/95693027.py:1: FutureWarning: A value is trying to be set on a copy of a DataFrame or Series through chained assignment using an inplace method.\n",
      "The behavior will change in pandas 3.0. This inplace method will never work because the intermediate object on which we are setting values always behaves as a copy.\n",
      "\n",
      "For example, when doing 'df[col].method(value, inplace=True)', try using 'df.method({col: value}, inplace=True)' or df[col] = df[col].method(value) instead, to perform the operation inplace on the original object.\n",
      "\n",
      "\n",
      "  data['breast-quad'].fillna(data['breast-quad'].mode()[0],inplace=True) #this really runs need to run it twice\n"
     ]
    }
   ],
   "source": [
    "data['breast-quad'].fillna(data['breast-quad'].mode()[0],inplace=True) #this really runs need to run it twice"
   ]
  },
  {
   "cell_type": "markdown",
   "id": "b71f66a1-d3cb-48bb-b7f6-1b2bbe122e29",
   "metadata": {},
   "source": [
    "#### Univariate Analysis"
   ]
  },
  {
   "cell_type": "code",
   "execution_count": 12,
   "id": "bb58f8f4-fc5c-477e-aeac-0222a723f1c7",
   "metadata": {},
   "outputs": [
    {
     "data": {
      "text/plain": [
       "<Axes: xlabel='age', ylabel='Count'>"
      ]
     },
     "execution_count": 12,
     "metadata": {},
     "output_type": "execute_result"
    },
    {
     "data": {
      "image/png": "[encoded data removed]",
      "text/plain": [
       "<Figure size 640x480 with 1 Axes>"
      ]
     },
     "metadata": {},
     "output_type": "display_data"
    }
   ],
   "source": [
    "sns.histplot(data=data['age'])"
   ]
  },
  {
   "cell_type": "code",
   "execution_count": 13,
   "id": "ee4c941d-7aeb-4ca8-bfb9-5828a2967b02",
   "metadata": {},
   "outputs": [
    {
     "data": {
      "text/plain": [
       "<Axes: xlabel='tumor-size', ylabel='Count'>"
      ]
     },
     "execution_count": 13,
     "metadata": {},
     "output_type": "execute_result"
    },
    {
     "data": {
      "image/png": "[encoded data removed]",
      "text/plain": [
       "<Figure size 640x480 with 1 Axes>"
      ]
     },
     "metadata": {},
     "output_type": "display_data"
    }
   ],
   "source": [
    "sns.histplot(data=data['tumor-size'])"
   ]
  },
  {
   "cell_type": "code",
   "execution_count": 14,
   "id": "948c0521-5e14-4fc9-b7d6-be15ff2ebd1f",
   "metadata": {},
   "outputs": [
    {
     "data": {
      "text/plain": [
       "<Axes: xlabel='breast-quad', ylabel='Count'>"
      ]
     },
     "execution_count": 14,
     "metadata": {},
     "output_type": "execute_result"
    },
    {
     "data": {
      "image/png": "[encoded data removed]",
      "text/plain": [
       "<Figure size 640x480 with 1 Axes>"
      ]
     },
     "metadata": {},
     "output_type": "display_data"
    }
   ],
   "source": [
    "sns.histplot(data=data['breast-quad'])"
   ]
  },
  {
   "cell_type": "code",
   "execution_count": 15,
   "id": "d7fce7ef-3098-45a9-b41e-35c7969ce64d",
   "metadata": {},
   "outputs": [
    {
     "data": {
      "text/plain": [
       "<Axes: xlabel='breast', ylabel='count'>"
      ]
     },
     "execution_count": 15,
     "metadata": {},
     "output_type": "execute_result"
    },
    {
     "data": {
      "image/png": "[encoded data removed]",
      "text/plain": [
       "<Figure size 640x480 with 1 Axes>"
      ]
     },
     "metadata": {},
     "output_type": "display_data"
    }
   ],
   "source": [
    "sns.countplot(x=data['breast'])"
   ]
  },
  {
   "cell_type": "code",
   "execution_count": 16,
   "id": "843b8e18-0044-463c-bf74-de6d6fc76afd",
   "metadata": {},
   "outputs": [
    {
     "data": {
      "text/plain": [
       "<Axes: xlabel='menopause', ylabel='Count'>"
      ]
     },
     "execution_count": 16,
     "metadata": {},
     "output_type": "execute_result"
    },
    {
     "data": {
      "image/png": "[encoded data removed]",
      "text/plain": [
       "<Figure size 640x480 with 1 Axes>"
      ]
     },
     "metadata": {},
     "output_type": "display_data"
    }
   ],
   "source": [
    "sns.histplot(data=data['menopause'])"
   ]
  },
  {
   "cell_type": "code",
   "execution_count": 17,
   "id": "fedf8b03-bbd6-494c-a983-cef53cbb35cb",
   "metadata": {},
   "outputs": [
    {
     "data": {
      "text/plain": [
       "<Axes: xlabel='irradiat', ylabel='count'>"
      ]
     },
     "execution_count": 17,
     "metadata": {},
     "output_type": "execute_result"
    },
    {
     "data": {
      "image/png": "[encoded data removed]",
      "text/plain": [
       "<Figure size 640x480 with 1 Axes>"
      ]
     },
     "metadata": {},
     "output_type": "display_data"
    }
   ],
   "source": [
    "sns.countplot(x=data['irradiat'])"
   ]
  },
  {
   "cell_type": "code",
   "execution_count": 18,
   "id": "66483eec-b856-4832-908c-62dff726f0af",
   "metadata": {},
   "outputs": [
    {
     "data": {
      "text/plain": [
       "<Axes: xlabel='node-caps', ylabel='count'>"
      ]
     },
     "execution_count": 18,
     "metadata": {},
     "output_type": "execute_result"
    },
    {
     "data": {
      "image/png": "[encoded data removed]",
      "text/plain": [
       "<Figure size 640x480 with 1 Axes>"
      ]
     },
     "metadata": {},
     "output_type": "display_data"
    }
   ],
   "source": [
    "sns.countplot(x=data['node-caps'])"
   ]
  },
  {
   "cell_type": "code",
   "execution_count": 19,
   "id": "3c31e131-ecc0-4f23-9f14-e846d7226621",
   "metadata": {},
   "outputs": [
    {
     "data": {
      "text/plain": [
       "<Axes: xlabel='class', ylabel='count'>"
      ]
     },
     "execution_count": 19,
     "metadata": {},
     "output_type": "execute_result"
    },
    {
     "data": {
      "image/png": "[encoded data removed]",
      "text/plain": [
       "<Figure size 640x480 with 1 Axes>"
      ]
     },
     "metadata": {},
     "output_type": "display_data"
    }
   ],
   "source": [
    "sns.countplot(x=data['class'])"
   ]
  },
  {
   "cell_type": "code",
   "execution_count": 20,
   "id": "23c60565-bdcc-40ab-8db0-2dd7deee23ff",
   "metadata": {},
   "outputs": [
    {
     "data": {
      "text/plain": [
       "<Axes: xlabel='deg-malig'>"
      ]
     },
     "execution_count": 20,
     "metadata": {},
     "output_type": "execute_result"
    },
    {
     "data": {
      "image/png": "[encoded data removed]",
      "text/plain": [
       "<Figure size 640x480 with 1 Axes>"
      ]
     },
     "metadata": {},
     "output_type": "display_data"
    }
   ],
   "source": [
    "sns.boxplot(data=data, x='deg-malig')"
   ]
  },
  {
   "cell_type": "markdown",
   "id": "09e40f8e-049f-41d7-b0f8-ea4cec49a9ef",
   "metadata": {},
   "source": [
    "#### One hot encoding"
   ]
  },
  {
   "cell_type": "code",
   "execution_count": 21,
   "id": "f613d1ff-7144-4424-8a57-908d2621e14a",
   "metadata": {},
   "outputs": [
    {
     "name": "stdout",
     "output_type": "stream",
     "text": [
      "<class 'pandas.core.frame.DataFrame'>\n",
      "RangeIndex: 286 entries, 0 to 285\n",
      "Data columns (total 32 columns):\n",
      " #   Column                   Non-Null Count  Dtype\n",
      "---  ------                   --------------  -----\n",
      " 0   deg-malig                286 non-null    int64\n",
      " 1   class_recurrence-events  286 non-null    bool \n",
      " 2   age_30-39                286 non-null    bool \n",
      " 3   age_40-49                286 non-null    bool \n",
      " 4   age_50-59                286 non-null    bool \n",
      " 5   age_60-69                286 non-null    bool \n",
      " 6   age_70-79                286 non-null    bool \n",
      " 7   menopause_lt40           286 non-null    bool \n",
      " 8   menopause_premeno        286 non-null    bool \n",
      " 9   tumor-size_10-14         286 non-null    bool \n",
      " 10  tumor-size_15-19         286 non-null    bool \n",
      " 11  tumor-size_20-24         286 non-null    bool \n",
      " 12  tumor-size_25-29         286 non-null    bool \n",
      " 13  tumor-size_30-34         286 non-null    bool \n",
      " 14  tumor-size_35-39         286 non-null    bool \n",
      " 15  tumor-size_40-44         286 non-null    bool \n",
      " 16  tumor-size_45-49         286 non-null    bool \n",
      " 17  tumor-size_5-9           286 non-null    bool \n",
      " 18  tumor-size_50-54         286 non-null    bool \n",
      " 19  inv-nodes_12-14          286 non-null    bool \n",
      " 20  inv-nodes_15-17          286 non-null    bool \n",
      " 21  inv-nodes_24-26          286 non-null    bool \n",
      " 22  inv-nodes_3-5            286 non-null    bool \n",
      " 23  inv-nodes_6-8            286 non-null    bool \n",
      " 24  inv-nodes_9-11           286 non-null    bool \n",
      " 25  node-caps_yes            286 non-null    bool \n",
      " 26  breast_right             286 non-null    bool \n",
      " 27  breast-quad_left_low     286 non-null    bool \n",
      " 28  breast-quad_left_up      286 non-null    bool \n",
      " 29  breast-quad_right_low    286 non-null    bool \n",
      " 30  breast-quad_right_up     286 non-null    bool \n",
      " 31  irradiat_yes             286 non-null    bool \n",
      "dtypes: bool(31), int64(1)\n",
      "memory usage: 11.0 KB\n"
     ]
    }
   ],
   "source": [
    "data['class'] = data['class'].astype(\"category\")\n",
    "data['age'] = data['age'].astype(\"category\")\n",
    "data['menopause'] = data['menopause'].astype(\"category\")\n",
    "data['tumor-size'] = data['tumor-size'].astype(\"category\")\n",
    "data['inv-nodes'] = data['inv-nodes'].astype(\"category\")\n",
    "data['node-caps'] = data['node-caps'].astype(\"category\")\n",
    "data['breast'] = data['breast'].astype(\"category\")\n",
    "data['breast-quad'] = data['breast-quad'].astype(\"category\")\n",
    "data['irradiat'] = data['irradiat'].astype(\"category\")\n",
    "data = pd.get_dummies(data, columns=['class', 'age', 'menopause', 'tumor-size', 'inv-nodes', 'node-caps', 'breast', 'breast-quad', 'irradiat'], drop_first=True)\n",
    "data.info()"
   ]
  },
  {
   "cell_type": "markdown",
   "id": "9784f0a3-e335-487e-9486-631a09269af3",
   "metadata": {},
   "source": [
    "### Part 2"
   ]
  },
  {
   "cell_type": "markdown",
   "id": "1c43066f-a39d-4e99-a12a-8f439f211f83",
   "metadata": {},
   "source": [
    "#### Spliting the dataset into Training and Test sets\n"
   ]
  },
  {
   "cell_type": "code",
   "execution_count": 22,
   "id": "e1c2d9dd-560a-4c86-9cc1-a1e57a332c56",
   "metadata": {},
   "outputs": [
    {
     "name": "stdout",
     "output_type": "stream",
     "text": [
      "X_train shape: (200, 31)\n",
      "X_test shape: (86, 31)\n",
      "y_train shape: (200,)\n",
      "y_test shape: (86,)\n"
     ]
    }
   ],
   "source": [
    "X = data.drop(['class_recurrence-events'], axis=1)  \n",
    "y = data['class_recurrence-events'] \n",
    "X_train, X_test, y_train, y_test = train_test_split(X, y, test_size=0.3,stratify=y, random_state=1)\n",
    "print(\"X_train shape:\", X_train.shape)\n",
    "print(\"X_test shape:\", X_test.shape)\n",
    "print(\"y_train shape:\", y_train.shape)\n",
    "print(\"y_test shape:\", y_test.shape)"
   ]
  },
  {
   "cell_type": "markdown",
   "id": "f87d10e0-adba-4233-876b-92754e528fd8",
   "metadata": {},
   "source": [
    "#### K-Nearest Neighbor Classifier"
   ]
  },
  {
   "cell_type": "code",
   "execution_count": 23,
   "id": "e92a691a-34c6-43d0-9534-7cad6db9f0ca",
   "metadata": {},
   "outputs": [
    {
     "data": {
      "text/html": [
       "<style>#sk-container-id-1 {color: black;}#sk-container-id-1 pre{padding: 0;}#sk-container-id-1 div.sk-toggleable {background-color: white;}#sk-container-id-1 label.sk-toggleable__label {cursor: pointer;display: block;width: 100%;margin-bottom: 0;padding: 0.3em;box-sizing: border-box;text-align: center;}#sk-container-id-1 label.sk-toggleable__label-arrow:before {content: \"▸\";float: left;margin-right: 0.25em;color: #696969;}#sk-container-id-1 label.sk-toggleable__label-arrow:hover:before {color: black;}#sk-container-id-1 div.sk-estimator:hover label.sk-toggleable__label-arrow:before {color: black;}#sk-container-id-1 div.sk-toggleable__content {max-height: 0;max-width: 0;overflow: hidden;text-align: left;background-color: #f0f8ff;}#sk-container-id-1 div.sk-toggleable__content pre {margin: 0.2em;color: black;border-radius: 0.25em;background-color: #f0f8ff;}#sk-container-id-1 input.sk-toggleable__control:checked~div.sk-toggleable__content {max-height: 200px;max-width: 100%;overflow: auto;}#sk-container-id-1 input.sk-toggleable__control:checked~label.sk-toggleable__label-arrow:before {content: \"▾\";}#sk-container-id-1 div.sk-estimator input.sk-toggleable__control:checked~label.sk-toggleable__label {background-color: #d4ebff;}#sk-container-id-1 div.sk-label input.sk-toggleable__control:checked~label.sk-toggleable__label {background-color: #d4ebff;}#sk-container-id-1 input.sk-hidden--visually {border: 0;clip: rect(1px 1px 1px 1px);clip: rect(1px, 1px, 1px, 1px);height: 1px;margin: -1px;overflow: hidden;padding: 0;position: absolute;width: 1px;}#sk-container-id-1 div.sk-estimator {font-family: monospace;background-color: #f0f8ff;border: 1px dotted black;border-radius: 0.25em;box-sizing: border-box;margin-bottom: 0.5em;}#sk-container-id-1 div.sk-estimator:hover {background-color: #d4ebff;}#sk-container-id-1 div.sk-parallel-item::after {content: \"\";width: 100%;border-bottom: 1px solid gray;flex-grow: 1;}#sk-container-id-1 div.sk-label:hover label.sk-toggleable__label {background-color: #d4ebff;}#sk-container-id-1 div.sk-serial::before {content: \"\";position: absolute;border-left: 1px solid gray;box-sizing: border-box;top: 0;bottom: 0;left: 50%;z-index: 0;}#sk-container-id-1 div.sk-serial {display: flex;flex-direction: column;align-items: center;background-color: white;padding-right: 0.2em;padding-left: 0.2em;position: relative;}#sk-container-id-1 div.sk-item {position: relative;z-index: 1;}#sk-container-id-1 div.sk-parallel {display: flex;align-items: stretch;justify-content: center;background-color: white;position: relative;}#sk-container-id-1 div.sk-item::before, #sk-container-id-1 div.sk-parallel-item::before {content: \"\";position: absolute;border-left: 1px solid gray;box-sizing: border-box;top: 0;bottom: 0;left: 50%;z-index: -1;}#sk-container-id-1 div.sk-parallel-item {display: flex;flex-direction: column;z-index: 1;position: relative;background-color: white;}#sk-container-id-1 div.sk-parallel-item:first-child::after {align-self: flex-end;width: 50%;}#sk-container-id-1 div.sk-parallel-item:last-child::after {align-self: flex-start;width: 50%;}#sk-container-id-1 div.sk-parallel-item:only-child::after {width: 0;}#sk-container-id-1 div.sk-dashed-wrapped {border: 1px dashed gray;margin: 0 0.4em 0.5em 0.4em;box-sizing: border-box;padding-bottom: 0.4em;background-color: white;}#sk-container-id-1 div.sk-label label {font-family: monospace;font-weight: bold;display: inline-block;line-height: 1.2em;}#sk-container-id-1 div.sk-label-container {text-align: center;}#sk-container-id-1 div.sk-container {/* jupyter's `normalize.less` sets `[hidden] { display: none; }` but bootstrap.min.css set `[hidden] { display: none !important; }` so we also need the `!important` here to be able to override the default hidden behavior on the sphinx rendered scikit-learn.org. See: https://github.com/scikit-learn/scikit-learn/issues/21755 */display: inline-block !important;position: relative;}#sk-container-id-1 div.sk-text-repr-fallback {display: none;}</style><div id=\"sk-container-id-1\" class=\"sk-top-container\"><div class=\"sk-text-repr-fallback\"><pre>KNeighborsClassifier(n_neighbors=3)</pre><b>In a Jupyter environment, please rerun this cell to show the HTML representation or trust the notebook. <br />On GitHub, the HTML representation is unable to render, please try loading this page with nbviewer.org.</b></div><div class=\"sk-container\" hidden><div class=\"sk-item\"><div class=\"sk-estimator sk-toggleable\"><input class=\"sk-toggleable__control sk-hidden--visually\" id=\"sk-estimator-id-1\" type=\"checkbox\" checked><label for=\"sk-estimator-id-1\" class=\"sk-toggleable__label sk-toggleable__label-arrow\">KNeighborsClassifier</label><div class=\"sk-toggleable__content\"><pre>KNeighborsClassifier(n_neighbors=3)</pre></div></div></div></div></div>"
      ],
      "text/plain": [
       "KNeighborsClassifier(n_neighbors=3)"
      ]
     },
     "execution_count": 23,
     "metadata": {},
     "output_type": "execute_result"
    }
   ],
   "source": [
    "knn = KNeighborsClassifier(n_neighbors=3)\n",
    "\n",
    "# fit the model to the training set\n",
    "knn.fit(X_train, y_train)"
   ]
  },
  {
   "cell_type": "code",
   "execution_count": 24,
   "id": "99ac31fa-e5e4-48e7-a719-bf656cea6b62",
   "metadata": {},
   "outputs": [
    {
     "name": "stdout",
     "output_type": "stream",
     "text": [
      "Accuracy of knn on test data is : 0.69\n",
      "Accuracy of knn on train data is : 0.86\n"
     ]
    }
   ],
   "source": [
    "accuracy_test=accuracy_score(y_test, knn.predict(X_test))\n",
    "print('Accuracy of knn on test data is : {:.2}'.format(accuracy_test))\n",
    "\n",
    "# Check accuracy on the training data\n",
    "accuracy_train=accuracy_score(y_train, knn.predict(X_train))\n",
    "print('Accuracy of knn on train data is : {:.2}'.format(accuracy_train))"
   ]
  },
  {
   "cell_type": "code",
   "execution_count": 25,
   "id": "b616fa06-a31b-4092-aa6f-027a66a3ac91",
   "metadata": {},
   "outputs": [
    {
     "name": "stdout",
     "output_type": "stream",
     "text": [
      "Accuracy on the test data set for the model produced with the optimal k is: 0.6976744186046512\n",
      "Accuracy of on train data for the model produced with the optimal k is: 0.74\n"
     ]
    }
   ],
   "source": [
    "knn_search_accuracy = KNeighborsClassifier()\n",
    "param_grid = {\"n_neighbors\": np.arange(1, 100)}\n",
    "knn_gscv = GridSearchCV(knn_search_accuracy, param_grid, cv=5)\n",
    "knn_gscv.fit(X_train, y_train)\n",
    "knn_gscv.best_params_\n",
    "best_knn = knn_gscv.best_estimator_\n",
    "accuracy_test=accuracy_score(y_test, best_knn.predict(X_test))\n",
    "print(f\"Accuracy on the test data set for the model produced with the optimal k is: {accuracy_test}\")\n",
    "accuracy_train=accuracy_score(y_train, best_knn.predict(X_train))\n",
    "print('Accuracy of on train data for the model produced with the optimal k is: {:.2}'.format(accuracy_train))\n"
   ]
  },
  {
   "cell_type": "code",
   "execution_count": 26,
   "id": "a5648cd3-9360-46d3-917e-fb0a67c7a81b",
   "metadata": {},
   "outputs": [
    {
     "name": "stdout",
     "output_type": "stream",
     "text": [
      "Recall of KNeighborsClassifier(n_neighbors=3) on test data is : 0.38461538461538464\n",
      "Recall of KNeighborsClassifier(n_neighbors=3) on train data is : 0.5932203389830508\n",
      "Recall of KNeighborsClassifier(n_neighbors=14) on test data is : 0.038461538461538464\n",
      "Recall of KNeighborsClassifier(n_neighbors=14) on train data is : 0.15254237288135594\n",
      "Recall of KNeighborsClassifier(n_neighbors=1) on test data is : 0.23076923076923078\n",
      "Recall of KNeighborsClassifier(n_neighbors=1) on train data is : 0.9152542372881356\n"
     ]
    }
   ],
   "source": [
    "knn_search_recall = KNeighborsClassifier()\n",
    "knn_gscv2 = GridSearchCV(knn_search_recall, param_grid, cv=5, scoring=\"recall\")\n",
    "knn_gscv2.fit(X_train, y_train)\n",
    "knn_gscv2.best_params_\n",
    "best_recall = knn_gscv2.best_estimator_\n",
    "models = [knn, best_knn, best_recall]\n",
    "for m in models:\n",
    "    # Recall\n",
    "    # on test data\n",
    "    recall_test=recall_score(y_test, m.predict(X_test))\n",
    "    print(f'Recall of {m} on test data is : {recall_test}')\n",
    "    # on training data\n",
    "    recall_train=recall_score(y_train, m.predict(X_train))\n",
    "    print(f'Recall of {m} on train data is : {recall_train}')"
   ]
  },
  {
   "cell_type": "markdown",
   "id": "c42f2552-3b74-4e30-aa68-c24796920622",
   "metadata": {},
   "source": [
    "#### Decision Tree"
   ]
  },
  {
   "cell_type": "code",
   "execution_count": 27,
   "id": "8d0fc82a-a37c-4619-842e-bb351c97d9ae",
   "metadata": {},
   "outputs": [],
   "source": [
    "model = DecisionTreeClassifier(random_state=1).fit(X_train, y_train)"
   ]
  },
  {
   "cell_type": "code",
   "execution_count": 28,
   "id": "cfbda772-ddde-4b69-83ba-e5f0e869c95d",
   "metadata": {},
   "outputs": [
    {
     "name": "stdout",
     "output_type": "stream",
     "text": [
      "Performance on TEST\n",
      "*******************\n",
      "              precision    recall  f1-score   support\n",
      "\n",
      "       False       0.72      0.82      0.77        60\n",
      "        True       0.39      0.27      0.32        26\n",
      "\n",
      "    accuracy                           0.65        86\n",
      "   macro avg       0.55      0.54      0.54        86\n",
      "weighted avg       0.62      0.65      0.63        86\n",
      "\n",
      "Performance on TRAIN\n",
      "********************\n",
      "              precision    recall  f1-score   support\n",
      "\n",
      "       False       0.96      1.00      0.98       141\n",
      "        True       1.00      0.90      0.95        59\n",
      "\n",
      "    accuracy                           0.97       200\n",
      "   macro avg       0.98      0.95      0.96       200\n",
      "weighted avg       0.97      0.97      0.97       200\n",
      "\n"
     ]
    }
   ],
   "source": [
    "print(f\"Performance on TEST\\n*******************\\n{classification_report(y_test, model.predict(X_test))}\")\n",
    "print(f\"Performance on TRAIN\\n********************\\n{classification_report(y_train, model.predict(X_train))}\")"
   ]
  },
  {
   "cell_type": "code",
   "execution_count": 29,
   "id": "8cac295e-17e2-438c-b6b8-0256bc13ac14",
   "metadata": {},
   "outputs": [
    {
     "data": {
      "text/plain": [
       "[Text(0.7375274122807017, 0.9705882352941176, 'x[24] <= 0.5\\ngini = 0.416\\nsamples = 200\\nvalue = [141, 59]'),\n",
       " Text(0.5978618421052632, 0.9117647058823529, 'x[8] <= 0.5\\ngini = 0.34\\nsamples = 161\\nvalue = [126, 35]'),\n",
       " Text(0.5803179824561403, 0.8529411764705882, 'x[21] <= 0.5\\ngini = 0.375\\nsamples = 140\\nvalue = [105, 35]'),\n",
       " Text(0.4588815789473684, 0.7941176470588235, 'x[6] <= 0.5\\ngini = 0.349\\nsamples = 129\\nvalue = [100, 29]'),\n",
       " Text(0.3059210526315789, 0.7352941176470589, 'x[0] <= 1.5\\ngini = 0.337\\nsamples = 126\\nvalue = [99, 27]'),\n",
       " Text(0.05263157894736842, 0.6764705882352942, 'x[7] <= 0.5\\ngini = 0.198\\nsamples = 36\\nvalue = [32, 4]'),\n",
       " Text(0.03508771929824561, 0.6176470588235294, 'gini = 0.0\\nsamples = 18\\nvalue = [18, 0]'),\n",
       " Text(0.07017543859649122, 0.6176470588235294, 'x[26] <= 0.5\\ngini = 0.346\\nsamples = 18\\nvalue = [14, 4]'),\n",
       " Text(0.03508771929824561, 0.5588235294117647, 'x[3] <= 0.5\\ngini = 0.198\\nsamples = 9\\nvalue = [8, 1]'),\n",
       " Text(0.017543859649122806, 0.5, 'gini = 0.0\\nsamples = 7\\nvalue = [7, 0]'),\n",
       " Text(0.05263157894736842, 0.5, 'gini = 0.5\\nsamples = 2\\nvalue = [1, 1]'),\n",
       " Text(0.10526315789473684, 0.5588235294117647, 'x[14] <= 0.5\\ngini = 0.444\\nsamples = 9\\nvalue = [6, 3]'),\n",
       " Text(0.08771929824561403, 0.5, 'x[11] <= 0.5\\ngini = 0.375\\nsamples = 8\\nvalue = [6, 2]'),\n",
       " Text(0.07017543859649122, 0.4411764705882353, 'x[25] <= 0.5\\ngini = 0.444\\nsamples = 6\\nvalue = [4, 2]'),\n",
       " Text(0.05263157894736842, 0.38235294117647056, 'x[30] <= 0.5\\ngini = 0.32\\nsamples = 5\\nvalue = [4, 1]'),\n",
       " Text(0.03508771929824561, 0.3235294117647059, 'gini = 0.0\\nsamples = 4\\nvalue = [4, 0]'),\n",
       " Text(0.07017543859649122, 0.3235294117647059, 'gini = 0.0\\nsamples = 1\\nvalue = [0, 1]'),\n",
       " Text(0.08771929824561403, 0.38235294117647056, 'gini = 0.0\\nsamples = 1\\nvalue = [0, 1]'),\n",
       " Text(0.10526315789473684, 0.4411764705882353, 'gini = 0.0\\nsamples = 2\\nvalue = [2, 0]'),\n",
       " Text(0.12280701754385964, 0.5, 'gini = 0.0\\nsamples = 1\\nvalue = [0, 1]'),\n",
       " Text(0.5592105263157895, 0.6764705882352942, 'x[13] <= 0.5\\ngini = 0.38\\nsamples = 90\\nvalue = [67, 23]'),\n",
       " Text(0.4692982456140351, 0.6176470588235294, 'x[11] <= 0.5\\ngini = 0.363\\nsamples = 84\\nvalue = [64, 20]'),\n",
       " Text(0.34210526315789475, 0.5588235294117647, 'x[25] <= 0.5\\ngini = 0.32\\nsamples = 65\\nvalue = [52, 13]'),\n",
       " Text(0.22807017543859648, 0.5, 'x[9] <= 0.5\\ngini = 0.234\\nsamples = 37\\nvalue = [32, 5]'),\n",
       " Text(0.17543859649122806, 0.4411764705882353, 'x[26] <= 0.5\\ngini = 0.175\\nsamples = 31\\nvalue = [28, 3]'),\n",
       " Text(0.12280701754385964, 0.38235294117647056, 'x[1] <= 0.5\\ngini = 0.1\\nsamples = 19\\nvalue = [18, 1]'),\n",
       " Text(0.10526315789473684, 0.3235294117647059, 'gini = 0.0\\nsamples = 14\\nvalue = [14, 0]'),\n",
       " Text(0.14035087719298245, 0.3235294117647059, 'x[12] <= 0.5\\ngini = 0.32\\nsamples = 5\\nvalue = [4, 1]'),\n",
       " Text(0.12280701754385964, 0.2647058823529412, 'gini = 0.0\\nsamples = 3\\nvalue = [3, 0]'),\n",
       " Text(0.15789473684210525, 0.2647058823529412, 'gini = 0.5\\nsamples = 2\\nvalue = [1, 1]'),\n",
       " Text(0.22807017543859648, 0.38235294117647056, 'x[30] <= 0.5\\ngini = 0.278\\nsamples = 12\\nvalue = [10, 2]'),\n",
       " Text(0.21052631578947367, 0.3235294117647059, 'x[4] <= 0.5\\ngini = 0.346\\nsamples = 9\\nvalue = [7, 2]'),\n",
       " Text(0.19298245614035087, 0.2647058823529412, 'x[1] <= 0.5\\ngini = 0.444\\nsamples = 6\\nvalue = [4, 2]'),\n",
       " Text(0.17543859649122806, 0.20588235294117646, 'x[12] <= 0.5\\ngini = 0.48\\nsamples = 5\\nvalue = [3, 2]'),\n",
       " Text(0.14035087719298245, 0.14705882352941177, 'x[7] <= 0.5\\ngini = 0.444\\nsamples = 3\\nvalue = [2, 1]'),\n",
       " Text(0.12280701754385964, 0.08823529411764706, 'gini = 0.0\\nsamples = 1\\nvalue = [1, 0]'),\n",
       " Text(0.15789473684210525, 0.08823529411764706, 'gini = 0.5\\nsamples = 2\\nvalue = [1, 1]'),\n",
       " Text(0.21052631578947367, 0.14705882352941177, 'x[7] <= 0.5\\ngini = 0.5\\nsamples = 2\\nvalue = [1, 1]'),\n",
       " Text(0.19298245614035087, 0.08823529411764706, 'gini = 0.0\\nsamples = 1\\nvalue = [0, 1]'),\n",
       " Text(0.22807017543859648, 0.08823529411764706, 'gini = 0.0\\nsamples = 1\\nvalue = [1, 0]'),\n",
       " Text(0.21052631578947367, 0.20588235294117646, 'gini = 0.0\\nsamples = 1\\nvalue = [1, 0]'),\n",
       " Text(0.22807017543859648, 0.2647058823529412, 'gini = 0.0\\nsamples = 3\\nvalue = [3, 0]'),\n",
       " Text(0.24561403508771928, 0.3235294117647059, 'gini = 0.0\\nsamples = 3\\nvalue = [3, 0]'),\n",
       " Text(0.2807017543859649, 0.4411764705882353, 'x[7] <= 0.5\\ngini = 0.444\\nsamples = 6\\nvalue = [4, 2]'),\n",
       " Text(0.2631578947368421, 0.38235294117647056, 'gini = 0.0\\nsamples = 3\\nvalue = [3, 0]'),\n",
       " Text(0.2982456140350877, 0.38235294117647056, 'x[26] <= 0.5\\ngini = 0.444\\nsamples = 3\\nvalue = [1, 2]'),\n",
       " Text(0.2807017543859649, 0.3235294117647059, 'gini = 0.0\\nsamples = 1\\nvalue = [0, 1]'),\n",
       " Text(0.3157894736842105, 0.3235294117647059, 'x[3] <= 0.5\\ngini = 0.5\\nsamples = 2\\nvalue = [1, 1]'),\n",
       " Text(0.2982456140350877, 0.2647058823529412, 'gini = 0.0\\nsamples = 1\\nvalue = [1, 0]'),\n",
       " Text(0.3333333333333333, 0.2647058823529412, 'gini = 0.0\\nsamples = 1\\nvalue = [0, 1]'),\n",
       " Text(0.45614035087719296, 0.5, 'x[4] <= 0.5\\ngini = 0.408\\nsamples = 28\\nvalue = [20, 8]'),\n",
       " Text(0.42105263157894735, 0.4411764705882353, 'x[26] <= 0.5\\ngini = 0.266\\nsamples = 19\\nvalue = [16, 3]'),\n",
       " Text(0.40350877192982454, 0.38235294117647056, 'x[28] <= 0.5\\ngini = 0.337\\nsamples = 14\\nvalue = [11, 3]'),\n",
       " Text(0.38596491228070173, 0.3235294117647059, 'x[27] <= 0.5\\ngini = 0.42\\nsamples = 10\\nvalue = [7, 3]'),\n",
       " Text(0.3684210526315789, 0.2647058823529412, 'x[3] <= 0.5\\ngini = 0.49\\nsamples = 7\\nvalue = [4, 3]'),\n",
       " Text(0.3508771929824561, 0.20588235294117646, 'x[30] <= 0.5\\ngini = 0.444\\nsamples = 6\\nvalue = [4, 2]'),\n",
       " Text(0.3333333333333333, 0.14705882352941177, 'x[14] <= 0.5\\ngini = 0.48\\nsamples = 5\\nvalue = [3, 2]'),\n",
       " Text(0.3157894736842105, 0.08823529411764706, 'x[29] <= 0.5\\ngini = 0.5\\nsamples = 4\\nvalue = [2, 2]'),\n",
       " Text(0.2982456140350877, 0.029411764705882353, 'gini = 0.5\\nsamples = 2\\nvalue = [1, 1]'),\n",
       " Text(0.3333333333333333, 0.029411764705882353, 'gini = 0.5\\nsamples = 2\\nvalue = [1, 1]'),\n",
       " Text(0.3508771929824561, 0.08823529411764706, 'gini = 0.0\\nsamples = 1\\nvalue = [1, 0]'),\n",
       " Text(0.3684210526315789, 0.14705882352941177, 'gini = 0.0\\nsamples = 1\\nvalue = [1, 0]'),\n",
       " Text(0.38596491228070173, 0.20588235294117646, 'gini = 0.0\\nsamples = 1\\nvalue = [0, 1]'),\n",
       " Text(0.40350877192982454, 0.2647058823529412, 'gini = 0.0\\nsamples = 3\\nvalue = [3, 0]'),\n",
       " Text(0.42105263157894735, 0.3235294117647059, 'gini = 0.0\\nsamples = 4\\nvalue = [4, 0]'),\n",
       " Text(0.43859649122807015, 0.38235294117647056, 'gini = 0.0\\nsamples = 5\\nvalue = [5, 0]'),\n",
       " Text(0.49122807017543857, 0.4411764705882353, 'x[9] <= 0.5\\ngini = 0.494\\nsamples = 9\\nvalue = [4, 5]'),\n",
       " Text(0.47368421052631576, 0.38235294117647056, 'x[10] <= 0.5\\ngini = 0.278\\nsamples = 6\\nvalue = [1, 5]'),\n",
       " Text(0.45614035087719296, 0.3235294117647059, 'gini = 0.0\\nsamples = 4\\nvalue = [0, 4]'),\n",
       " Text(0.49122807017543857, 0.3235294117647059, 'x[0] <= 2.5\\ngini = 0.5\\nsamples = 2\\nvalue = [1, 1]'),\n",
       " Text(0.47368421052631576, 0.2647058823529412, 'gini = 0.0\\nsamples = 1\\nvalue = [1, 0]'),\n",
       " Text(0.5087719298245614, 0.2647058823529412, 'gini = 0.0\\nsamples = 1\\nvalue = [0, 1]'),\n",
       " Text(0.5087719298245614, 0.38235294117647056, 'gini = 0.0\\nsamples = 3\\nvalue = [3, 0]'),\n",
       " Text(0.5964912280701754, 0.5588235294117647, 'x[30] <= 0.5\\ngini = 0.465\\nsamples = 19\\nvalue = [12, 7]'),\n",
       " Text(0.543859649122807, 0.5, 'x[7] <= 0.5\\ngini = 0.408\\nsamples = 14\\nvalue = [10, 4]'),\n",
       " Text(0.5263157894736842, 0.4411764705882353, 'gini = 0.0\\nsamples = 5\\nvalue = [5, 0]'),\n",
       " Text(0.5614035087719298, 0.4411764705882353, 'x[29] <= 0.5\\ngini = 0.494\\nsamples = 9\\nvalue = [5, 4]'),\n",
       " Text(0.543859649122807, 0.38235294117647056, 'x[2] <= 0.5\\ngini = 0.408\\nsamples = 7\\nvalue = [5, 2]'),\n",
       " Text(0.5263157894736842, 0.3235294117647059, 'gini = 0.0\\nsamples = 4\\nvalue = [4, 0]'),\n",
       " Text(0.5614035087719298, 0.3235294117647059, 'x[0] <= 2.5\\ngini = 0.444\\nsamples = 3\\nvalue = [1, 2]'),\n",
       " Text(0.543859649122807, 0.2647058823529412, 'gini = 0.5\\nsamples = 2\\nvalue = [1, 1]'),\n",
       " Text(0.5789473684210527, 0.2647058823529412, 'gini = 0.0\\nsamples = 1\\nvalue = [0, 1]'),\n",
       " Text(0.5789473684210527, 0.38235294117647056, 'gini = 0.0\\nsamples = 2\\nvalue = [0, 2]'),\n",
       " Text(0.6491228070175439, 0.5, 'x[26] <= 0.5\\ngini = 0.48\\nsamples = 5\\nvalue = [2, 3]'),\n",
       " Text(0.631578947368421, 0.4411764705882353, 'x[2] <= 0.5\\ngini = 0.444\\nsamples = 3\\nvalue = [2, 1]'),\n",
       " Text(0.6140350877192983, 0.38235294117647056, 'gini = 0.0\\nsamples = 1\\nvalue = [0, 1]'),\n",
       " Text(0.6491228070175439, 0.38235294117647056, 'gini = 0.0\\nsamples = 2\\nvalue = [2, 0]'),\n",
       " Text(0.6666666666666666, 0.4411764705882353, 'gini = 0.0\\nsamples = 2\\nvalue = [0, 2]'),\n",
       " Text(0.6491228070175439, 0.6176470588235294, 'x[26] <= 0.5\\ngini = 0.5\\nsamples = 6\\nvalue = [3, 3]'),\n",
       " Text(0.631578947368421, 0.5588235294117647, 'gini = 0.0\\nsamples = 3\\nvalue = [3, 0]'),\n",
       " Text(0.6666666666666666, 0.5588235294117647, 'gini = 0.0\\nsamples = 3\\nvalue = [0, 3]'),\n",
       " Text(0.6118421052631579, 0.7352941176470589, 'x[10] <= 0.5\\ngini = 0.444\\nsamples = 3\\nvalue = [1, 2]'),\n",
       " Text(0.5942982456140351, 0.6764705882352942, 'gini = 0.0\\nsamples = 1\\nvalue = [1, 0]'),\n",
       " Text(0.6293859649122807, 0.6764705882352942, 'gini = 0.0\\nsamples = 2\\nvalue = [0, 2]'),\n",
       " Text(0.7017543859649122, 0.7941176470588235, 'x[12] <= 0.5\\ngini = 0.496\\nsamples = 11\\nvalue = [5, 6]'),\n",
       " Text(0.6842105263157895, 0.7352941176470589, 'x[25] <= 0.5\\ngini = 0.408\\nsamples = 7\\nvalue = [5, 2]'),\n",
       " Text(0.6666666666666666, 0.6764705882352942, 'gini = 0.0\\nsamples = 1\\nvalue = [0, 1]'),\n",
       " Text(0.7017543859649122, 0.6764705882352942, 'x[11] <= 0.5\\ngini = 0.278\\nsamples = 6\\nvalue = [5, 1]'),\n",
       " Text(0.6842105263157895, 0.6176470588235294, 'gini = 0.0\\nsamples = 4\\nvalue = [4, 0]'),\n",
       " Text(0.7192982456140351, 0.6176470588235294, 'x[29] <= 0.5\\ngini = 0.5\\nsamples = 2\\nvalue = [1, 1]'),\n",
       " Text(0.7017543859649122, 0.5588235294117647, 'gini = 0.0\\nsamples = 1\\nvalue = [1, 0]'),\n",
       " Text(0.7368421052631579, 0.5588235294117647, 'gini = 0.0\\nsamples = 1\\nvalue = [0, 1]'),\n",
       " Text(0.7192982456140351, 0.7352941176470589, 'gini = 0.0\\nsamples = 4\\nvalue = [0, 4]'),\n",
       " Text(0.6154057017543859, 0.8529411764705882, 'gini = 0.0\\nsamples = 21\\nvalue = [21, 0]'),\n",
       " Text(0.8771929824561403, 0.9117647058823529, 'x[25] <= 0.5\\ngini = 0.473\\nsamples = 39\\nvalue = [15, 24]'),\n",
       " Text(0.8070175438596491, 0.8529411764705882, 'x[21] <= 0.5\\ngini = 0.308\\nsamples = 21\\nvalue = [4, 17]'),\n",
       " Text(0.7719298245614035, 0.7941176470588235, 'x[0] <= 2.5\\ngini = 0.142\\nsamples = 13\\nvalue = [1, 12]'),\n",
       " Text(0.7543859649122807, 0.7352941176470589, 'x[9] <= 0.5\\ngini = 0.5\\nsamples = 2\\nvalue = [1, 1]'),\n",
       " Text(0.7368421052631579, 0.6764705882352942, 'gini = 0.0\\nsamples = 1\\nvalue = [0, 1]'),\n",
       " Text(0.7719298245614035, 0.6764705882352942, 'gini = 0.0\\nsamples = 1\\nvalue = [1, 0]'),\n",
       " Text(0.7894736842105263, 0.7352941176470589, 'gini = 0.0\\nsamples = 11\\nvalue = [0, 11]'),\n",
       " Text(0.8421052631578947, 0.7941176470588235, 'x[3] <= 0.5\\ngini = 0.469\\nsamples = 8\\nvalue = [3, 5]'),\n",
       " Text(0.8245614035087719, 0.7352941176470589, 'x[7] <= 0.5\\ngini = 0.278\\nsamples = 6\\nvalue = [1, 5]'),\n",
       " Text(0.8070175438596491, 0.6764705882352942, 'x[0] <= 2.5\\ngini = 0.5\\nsamples = 2\\nvalue = [1, 1]'),\n",
       " Text(0.7894736842105263, 0.6176470588235294, 'gini = 0.0\\nsamples = 1\\nvalue = [0, 1]'),\n",
       " Text(0.8245614035087719, 0.6176470588235294, 'gini = 0.0\\nsamples = 1\\nvalue = [1, 0]'),\n",
       " Text(0.8421052631578947, 0.6764705882352942, 'gini = 0.0\\nsamples = 4\\nvalue = [0, 4]'),\n",
       " Text(0.8596491228070176, 0.7352941176470589, 'gini = 0.0\\nsamples = 2\\nvalue = [2, 0]'),\n",
       " Text(0.9473684210526315, 0.8529411764705882, 'x[13] <= 0.5\\ngini = 0.475\\nsamples = 18\\nvalue = [11, 7]'),\n",
       " Text(0.9298245614035088, 0.7941176470588235, 'x[0] <= 2.5\\ngini = 0.498\\nsamples = 15\\nvalue = [8, 7]'),\n",
       " Text(0.8947368421052632, 0.7352941176470589, 'x[23] <= 0.5\\ngini = 0.42\\nsamples = 10\\nvalue = [7, 3]'),\n",
       " Text(0.8771929824561403, 0.6764705882352942, 'x[29] <= 0.5\\ngini = 0.346\\nsamples = 9\\nvalue = [7, 2]'),\n",
       " Text(0.8596491228070176, 0.6176470588235294, 'gini = 0.0\\nsamples = 5\\nvalue = [5, 0]'),\n",
       " Text(0.8947368421052632, 0.6176470588235294, 'x[30] <= 0.5\\ngini = 0.5\\nsamples = 4\\nvalue = [2, 2]'),\n",
       " Text(0.8771929824561403, 0.5588235294117647, 'gini = 0.0\\nsamples = 2\\nvalue = [2, 0]'),\n",
       " Text(0.9122807017543859, 0.5588235294117647, 'gini = 0.0\\nsamples = 2\\nvalue = [0, 2]'),\n",
       " Text(0.9122807017543859, 0.6764705882352942, 'gini = 0.0\\nsamples = 1\\nvalue = [0, 1]'),\n",
       " Text(0.9649122807017544, 0.7352941176470589, 'x[11] <= 0.5\\ngini = 0.32\\nsamples = 5\\nvalue = [1, 4]'),\n",
       " Text(0.9473684210526315, 0.6764705882352942, 'gini = 0.0\\nsamples = 4\\nvalue = [0, 4]'),\n",
       " Text(0.9824561403508771, 0.6764705882352942, 'gini = 0.0\\nsamples = 1\\nvalue = [1, 0]'),\n",
       " Text(0.9649122807017544, 0.7941176470588235, 'gini = 0.0\\nsamples = 3\\nvalue = [3, 0]')]"
      ]
     },
     "execution_count": 29,
     "metadata": {},
     "output_type": "execute_result"
    },
    {
     "data": {
      "image/png": "[encoded data removed]",
      "text/plain": [
       "<Figure size 640x480 with 1 Axes>"
      ]
     },
     "metadata": {},
     "output_type": "display_data"
    }
   ],
   "source": [
    "tree.plot_tree(model)"
   ]
  },
  {
   "cell_type": "markdown",
   "id": "78a7a3e8-963a-4ed7-a643-439b84a8617f",
   "metadata": {},
   "source": [
    "#### Logistic Regression"
   ]
  },
  {
   "cell_type": "code",
   "execution_count": 30,
   "id": "380439d7-83ad-494f-94cd-0dbe8ebd363e",
   "metadata": {},
   "outputs": [
    {
     "name": "stdout",
     "output_type": "stream",
     "text": [
      "Performance on TEST\n",
      "*******************\n",
      "              precision    recall  f1-score   support\n",
      "\n",
      "       False       0.75      0.90      0.82        60\n",
      "        True       0.57      0.31      0.40        26\n",
      "\n",
      "    accuracy                           0.72        86\n",
      "   macro avg       0.66      0.60      0.61        86\n",
      "weighted avg       0.70      0.72      0.69        86\n",
      "\n",
      "Performance on TRAIN\n",
      "********************\n",
      "              precision    recall  f1-score   support\n",
      "\n",
      "       False       0.78      0.92      0.84       141\n",
      "        True       0.67      0.37      0.48        59\n",
      "\n",
      "    accuracy                           0.76       200\n",
      "   macro avg       0.72      0.65      0.66       200\n",
      "weighted avg       0.75      0.76      0.74       200\n",
      "\n"
     ]
    }
   ],
   "source": [
    "model = LogisticRegression(random_state=1, max_iter=1000).fit(X_train, y_train)\n",
    "  # print the report\n",
    "print(f\"Performance on TEST\\n*******************\\n{classification_report(y_test, model.predict(X_test))}\")\n",
    "print(f\"Performance on TRAIN\\n********************\\n{classification_report(y_train, model.predict(X_train))}\")"
   ]
  },
  {
   "cell_type": "code",
   "execution_count": null,
   "id": "f0b3fcdd-7f30-44aa-b035-59598c6ad087",
   "metadata": {},
   "outputs": [],
   "source": []
  },
  {
   "cell_type": "code",
   "execution_count": null,
   "id": "1f2246cb-6fb8-47de-833f-35c7e950fbec",
   "metadata": {},
   "outputs": [],
   "source": []
  },
  {
   "cell_type": "code",
   "execution_count": null,
   "id": "686acec3-0b4c-451b-b162-762db3b48cab",
   "metadata": {},
   "outputs": [],
   "source": []
  }
 ],
 "metadata": {
  "kernelspec": {
   "display_name": "Python 3 (ipykernel)",
   "language": "python",
   "name": "python3"
  },
  "language_info": {
   "codemirror_mode": {
    "name": "ipython",
    "version": 3
   },
   "file_extension": ".py",
   "mimetype": "text/x-python",
   "name": "python",
   "nbconvert_exporter": "python",
   "pygments_lexer": "ipython3",
   "version": "3.11.1"
  }
 },
 "nbformat": 4,
 "nbformat_minor": 5
}
